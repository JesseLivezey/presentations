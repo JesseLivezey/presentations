{
 "metadata": {
  "name": "",
  "signature": "sha256:222c667ae45f8a14c5e1bdbc3e964dbb574f8907353ee5a3fe01f503a75c8524"
 },
 "nbformat": 3,
 "nbformat_minor": 0,
 "worksheets": [
  {
   "cells": [
    {
     "cell_type": "code",
     "collapsed": false,
     "input": [
      "import numpy as np\n",
      "from numbapro import cuda\n",
      "from numbapro.cudalib import cublas\n",
      "from math import ceil\n",
      "import matplotlib.pyplot as plt\n",
      "%matplotlib inline"
     ],
     "language": "python",
     "metadata": {},
     "outputs": [],
     "prompt_number": 43
    },
    {
     "cell_type": "heading",
     "level": 1,
     "metadata": {},
     "source": [
      "Problems that can be mapped to GPUs"
     ]
    },
    {
     "cell_type": "markdown",
     "metadata": {},
     "source": [
      "- Many slow threads can be run at once\n",
      "- Elementwise operations are trivial\n",
      "- Functions that can be written as independent threads are easy\n",
      "- Functions that can be written as independent threads with sync points require more work\n",
      "- Otherwise, GPUs might not be the right tool"
     ]
    },
    {
     "cell_type": "heading",
     "level": 2,
     "metadata": {},
     "source": [
      "Elementwise Addition"
     ]
    },
    {
     "cell_type": "code",
     "collapsed": false,
     "input": [
      "@cuda.jit('void(f4[:,:], f4[:,:], f4[:,:])')\n",
      "def add(a, b, c):\n",
      "    n,m = a.shape\n",
      "    i,j = cuda.grid(2)\n",
      "    \n",
      "    if i<n and j<m:\n",
      "        c[i,j] = a[i,j]+b[i,j]"
     ],
     "language": "python",
     "metadata": {},
     "outputs": [],
     "prompt_number": 2
    },
    {
     "cell_type": "code",
     "collapsed": false,
     "input": [
      "dim = 4096\n",
      "nIter = 100\n",
      "shape = (dim, dim)\n",
      "a = np.ones(shape).astype(np.float32)\n",
      "b = (2.*np.ones(shape)).astype(np.float32)\n",
      "c = np.zeros(shape).astype(np.float32)\n",
      "\n",
      "stream = cuda.stream()\n",
      "blas = cublas.Blas(stream)\n",
      "d_a = cuda.to_device(np.array(a, dtype=np.float32, order='F'),\n",
      "                     stream=stream)\n",
      "d_b = cuda.to_device(np.array(b, dtype=np.float32, order='F'),\n",
      "                     stream=stream)\n",
      "d_c = cuda.to_device(np.array(c, dtype=np.float32, order='F'),\n",
      "                     stream=stream)\n",
      "stream.synchronize()\n",
      "\n",
      "blockdim2 = (32,32)\n",
      "griddim2 = (int(ceil(shape[0]/float(blockdim2[0]))),\n",
      "            int(ceil(shape[1]/float(blockdim2[1]))))\n",
      "\n",
      "def np_loop(a, b, c, nIter):\n",
      "    for ii in xrange(nIter):\n",
      "        c[:] = a+b\n",
      "    return\n",
      "def cu_loop(d_a, d_b, d_c, nIter, griddim2, blockdim2, stream):\n",
      "    for ii in xrange(nIter):\n",
      "        add[griddim2,blockdim2, stream](d_a, d_b, d_c)\n",
      "    stream.synchronize()\n",
      "    return \n",
      "def bl_loop(d_a, d_b, d_c, nIter, stream):\n",
      "    for ii in xrange(nIter):\n",
      "        blas.geam('N', 'N', dim, dim, 1., d_a, 1., d_b, d_c)\n",
      "    stream.synchronize()\n",
      "    return"
     ],
     "language": "python",
     "metadata": {},
     "outputs": [],
     "prompt_number": 10
    },
    {
     "cell_type": "code",
     "collapsed": false,
     "input": [
      "c[:] = a+b\n",
      "np.allclose(c, 3)"
     ],
     "language": "python",
     "metadata": {},
     "outputs": [
      {
       "metadata": {},
       "output_type": "pyout",
       "prompt_number": 11,
       "text": [
        "True"
       ]
      }
     ],
     "prompt_number": 11
    },
    {
     "cell_type": "code",
     "collapsed": false,
     "input": [
      "add[griddim2,blockdim2, stream](d_a, d_b, d_c)\n",
      "np.allclose(d_c.copy_to_host(), 3)"
     ],
     "language": "python",
     "metadata": {},
     "outputs": [
      {
       "metadata": {},
       "output_type": "pyout",
       "prompt_number": 12,
       "text": [
        "True"
       ]
      }
     ],
     "prompt_number": 12
    },
    {
     "cell_type": "code",
     "collapsed": false,
     "input": [
      "blas.geam('N', 'N', dim, dim, 1., d_a, 1., d_b, d_c)\n",
      "np.allclose(d_c.copy_to_host(), 3)"
     ],
     "language": "python",
     "metadata": {},
     "outputs": [
      {
       "metadata": {},
       "output_type": "pyout",
       "prompt_number": 13,
       "text": [
        "True"
       ]
      }
     ],
     "prompt_number": 13
    },
    {
     "cell_type": "code",
     "collapsed": false,
     "input": [
      "%timeit np_loop(a, b, c, nIter)"
     ],
     "language": "python",
     "metadata": {},
     "outputs": [
      {
       "output_type": "stream",
       "stream": "stdout",
       "text": [
        "1 loops, best of 3: 2.84 s per loop\n"
       ]
      }
     ],
     "prompt_number": 14
    },
    {
     "cell_type": "code",
     "collapsed": false,
     "input": [
      "%timeit cu_loop(d_a, d_b, d_c, nIter, griddim2,blockdim2, stream)"
     ],
     "language": "python",
     "metadata": {},
     "outputs": [
      {
       "output_type": "stream",
       "stream": "stdout",
       "text": [
        "1 loops, best of 3: 673 ms per loop\n"
       ]
      }
     ],
     "prompt_number": 15
    },
    {
     "cell_type": "code",
     "collapsed": false,
     "input": [
      "%timeit bl_loop(d_a, d_b, d_c, nIter, stream)"
     ],
     "language": "python",
     "metadata": {},
     "outputs": [
      {
       "output_type": "stream",
       "stream": "stdout",
       "text": [
        "10 loops, best of 3: 112 ms per loop\n"
       ]
      }
     ],
     "prompt_number": 16
    },
    {
     "cell_type": "heading",
     "level": 1,
     "metadata": {},
     "source": [
      "Implementing LCA on GPU"
     ]
    },
    {
     "cell_type": "markdown",
     "metadata": {},
     "source": [
      "- Form of NumbaPro CUDA kernels\n",
      "- Calling BLAS routines\n",
      "- Writing a GPU kernel"
     ]
    },
    {
     "cell_type": "markdown",
     "metadata": {},
     "source": [
      "LCA infers the sparse coefficients for the basis functions using the differential equation:\n",
      "$$u_i(t) = u_i(t-1)+\\eta(b_i-s_j(t-1)c_{ji}-u(t-1))$$\n",
      "and the thresholds\n",
      "$$s_i(t) = T(u_i(t))$$\n",
      "where\n",
      "$$b_i = \\phi_i\\cdot x$$\n",
      "and\n",
      "$$c_{ji} = \\phi_j\\cdot\\phi_i;\\ j\\neq i$$\n"
     ]
    },
    {
     "cell_type": "code",
     "collapsed": false,
     "input": [
      "@cuda.jit('void(f4[:,:])')\n",
      "def csub(c):\n",
      "    n = c.shape[0]\n",
      "    i = cuda.grid(1)\n",
      "    \n",
      "    if i<n and i>=0:\n",
      "        c[i,i] = 0."
     ],
     "language": "python",
     "metadata": {},
     "outputs": [],
     "prompt_number": 33
    },
    {
     "cell_type": "code",
     "collapsed": false,
     "input": [
      "@cuda.jit('void(f4[:,:],f4[:,:],f4[:,:],f4[:,:],f4,f4[:])')\n",
      "def iterate(b,ci,u,s,eta,thresh,):\n",
      "    n = u.shape[0]\n",
      "    m = u.shape[1]\n",
      "    i,j = cuda.grid(2)\n",
      "    \n",
      "    if i<n and j<m:\n",
      "        # Integrate one timestep\n",
      "        u[i,j] = eta*(b[i,j]-ci[i,j])+(1-eta)*u[i,j]\n",
      "        # Threshold\n",
      "        if u[i,j] < thresh[i] and u[i,j] > -thresh[i]:\n",
      "            s[i,j] = 0.\n",
      "        else:\n",
      "            s[i,j] = u[i,j]"
     ],
     "language": "python",
     "metadata": {},
     "outputs": [],
     "prompt_number": 47
    },
    {
     "cell_type": "code",
     "collapsed": false,
     "input": [
      "def infer(dictionary,stimuli,eta,nIter):\n",
      "#Get Blas routines\n",
      "    blas = cublas.Blas()\n",
      "#Initialize arrays\n",
      "    nDict = dictionary.shape[0]\n",
      "    nStim = stimuli.shape[0]\n",
      "    nFeat = stimuli.shape[1]\n",
      "    # Create zeros arrays and move to GPU\n",
      "    d_u = cuda.to_device(np.zeros((nStim,nDict),\n",
      "                                  dtype=np.float32,order='F'))\n",
      "    d_s = cuda.to_device(np.zeros((nStim,nDict),\n",
      "                                  dtype=np.float32,order='F'))\n",
      "    d_b = cuda.to_device(np.zeros((nStim,nDict),\n",
      "                                  dtype=np.float32,order='F'))\n",
      "    d_ci = cuda.to_device(np.zeros((nStim,nDict),\n",
      "                                   dtype=np.float32,order='F'))\n",
      "    d_c = cuda.to_device(np.zeros((nDict,nDict),\n",
      "                                  dtype=np.float32,order='F'))\n",
      "    \n",
      "    # Move inputs to GPU\n",
      "    d_dictionary = cuda.to_device(np.array(dictionary,\n",
      "                                           dtype=np.float32,order='F'))\n",
      "    d_stimuli = cuda.to_device(np.array(stimuli,\n",
      "                                        dtype=np.float32,order='F'))\n",
      "\n",
      "    blockdim2 = (32,32)\n",
      "    blockdim1 = 32\n",
      "    griddimcsub = int(ceil(nDict/float(blockdim1)))\n",
      "    griddimi = (int(ceil(nStim/float(blockdim2[0]))),\n",
      "                int(ceil(nDict/float(blockdim2[1]))))\n",
      "    \n",
      "    # Calculate c: overlap of basis functions\n",
      "    # with each other minus identity\n",
      "    blas.gemm('N','T',nDict,nDict,nFeat,1.,\n",
      "              d_dictionary,d_dictionary,0.,d_c)\n",
      "    csub[griddimcsub,blockdim1](d_c)\n",
      "    # Calculate b: overlap of basis functions\n",
      "    # and data\n",
      "    blas.gemm('N','T',nStim,nDict,nFeat,1.,d_stimuli,\n",
      "              d_dictionary,0.,d_b)\n",
      "    thresh = np.mean(np.absolute(d_b.copy_to_host()),axis=1)\n",
      "    d_thresh = cuda.to_device(thresh)\n",
      "    # Update u[i] and s[i] for nIter time steps\n",
      "    for kk in xrange(nIter):\n",
      "        # Calculate ci: amount other neurons are stimulated\n",
      "        # times overlap with rest of basis\n",
      "        blas.gemm('N','N',nStim,nDict,nDict,1.,d_s,d_c,0.,d_ci)\n",
      "        iterate[griddimi,blockdim2](d_b,d_ci,d_u,d_s,eta,d_thresh)\n",
      "    u = d_u.copy_to_host()\n",
      "    s = d_s.copy_to_host()\n",
      "    return (s,u)"
     ],
     "language": "python",
     "metadata": {},
     "outputs": [],
     "prompt_number": 48
    },
    {
     "cell_type": "code",
     "collapsed": false,
     "input": [
      "# Make some random data and a random dictionary\n",
      "data = np.random.randn(50,100)\n",
      "dictionary = np.random.randn(1000,100)\n",
      "dictionary = np.diag(np.sqrt(1./(dictionary*\n",
      "                                 dictionary).sum(axis=1))).dot(dictionary)\n",
      "eta = .01\n",
      "nIter = 500"
     ],
     "language": "python",
     "metadata": {},
     "outputs": [],
     "prompt_number": 49
    },
    {
     "cell_type": "code",
     "collapsed": false,
     "input": [
      "s, u = infer(dictionary, data, eta, nIter)"
     ],
     "language": "python",
     "metadata": {},
     "outputs": [],
     "prompt_number": 50
    },
    {
     "cell_type": "code",
     "collapsed": false,
     "input": [
      "plt.plot(u.ravel(),s.ravel(), '.')"
     ],
     "language": "python",
     "metadata": {},
     "outputs": [
      {
       "metadata": {},
       "output_type": "pyout",
       "prompt_number": 51,
       "text": [
        "[<matplotlib.lines.Line2D at 0x7f9f566f5150>]"
       ]
      },
      {
       "metadata": {},
       "output_type": "display_data",
       "png": "[encoded data removed]",
       "text": [
        "<matplotlib.figure.Figure at 0x7f9f5684ecd0>"
       ]
      }
     ],
     "prompt_number": 51
    },
    {
     "cell_type": "code",
     "collapsed": false,
     "input": [],
     "language": "python",
     "metadata": {},
     "outputs": []
    }
   ],
   "metadata": {}
  }
 ]
}